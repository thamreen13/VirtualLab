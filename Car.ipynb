{
  "nbformat": 4,
  "nbformat_minor": 0,
  "metadata": {
    "colab": {
      "private_outputs": true,
      "provenance": [],
      "authorship_tag": "ABX9TyOjwInG42+KEOG+4jOFCjUe",
      "include_colab_link": true
    },
    "kernelspec": {
      "name": "python3",
      "display_name": "Python 3"
    },
    "language_info": {
      "name": "python"
    }
  },
  "cells": [
    {
      "cell_type": "markdown",
      "metadata": {
        "id": "view-in-github",
        "colab_type": "text"
      },
      "source": [
        "<a href=\"https://colab.research.google.com/github/thamreen13/VirtualLab/blob/main/Car.ipynb\" target=\"_parent\"><img src=\"https://colab.research.google.com/assets/colab-badge.svg\" alt=\"Open In Colab\"/></a>"
      ]
    },
    {
      "cell_type": "code",
      "execution_count": null,
      "metadata": {
        "id": "hg4syxsQD7Dl"
      },
      "outputs": [],
      "source": [
        "import pandas as pd\n",
        "import numpy as np\n",
        "import matplotlib.pyplot as plt\n",
        "car = pd.read_csv('/content/Cars.csv')\n",
        "car"
      ]
    },
    {
      "cell_type": "code",
      "source": [
        "car.columns"
      ],
      "metadata": {
        "id": "10FtvkPDHJO_"
      },
      "execution_count": null,
      "outputs": []
    },
    {
      "cell_type": "markdown",
      "source": [
        "1st moment consists of mean median mode captures centre value"
      ],
      "metadata": {
        "id": "TACUEG-QHAOq"
      }
    },
    {
      "cell_type": "code",
      "source": [
        "car.mean()"
      ],
      "metadata": {
        "id": "Ay-dpT1iG0qx"
      },
      "execution_count": null,
      "outputs": []
    },
    {
      "cell_type": "code",
      "source": [
        "car.mode()"
      ],
      "metadata": {
        "id": "WjhoTw5TGRic"
      },
      "execution_count": null,
      "outputs": []
    },
    {
      "cell_type": "code",
      "source": [
        "car.median()"
      ],
      "metadata": {
        "id": "1Zxs3VV0HazN"
      },
      "execution_count": null,
      "outputs": []
    },
    {
      "cell_type": "code",
      "source": [
        "range=max(car.MPG)-min(car.MPG)\n",
        "range"
      ],
      "metadata": {
        "id": "v-lf-9q-0Syh"
      },
      "execution_count": null,
      "outputs": []
    },
    {
      "cell_type": "markdown",
      "source": [
        "2nd moment consists of varience and standard deviation captures spread from centre"
      ],
      "metadata": {
        "id": "BciwehaYHf0O"
      }
    },
    {
      "cell_type": "code",
      "source": [
        "car.var()"
      ],
      "metadata": {
        "id": "eeqldJH6Hoyb"
      },
      "execution_count": null,
      "outputs": []
    },
    {
      "cell_type": "code",
      "source": [
        "car.std()"
      ],
      "metadata": {
        "id": "sjI-mQ3nHro4"
      },
      "execution_count": null,
      "outputs": []
    },
    {
      "cell_type": "code",
      "source": [
        "range=max(car.MPG)-min(car.MPG)\n",
        "range"
      ],
      "metadata": {
        "id": "sCbpwRiewujl"
      },
      "execution_count": null,
      "outputs": []
    },
    {
      "cell_type": "markdown",
      "source": [
        "3rd moment consists of skewness"
      ],
      "metadata": {
        "id": "VUsGeoHlH5QK"
      }
    },
    {
      "cell_type": "code",
      "source": [
        "car.skew()"
      ],
      "metadata": {
        "id": "FhIbuD-rHtmQ"
      },
      "execution_count": null,
      "outputs": []
    },
    {
      "cell_type": "markdown",
      "source": [
        "Note that positive skewness is the right-skewed distribution with the long tail on its right side vice versa"
      ],
      "metadata": {
        "id": "70IXZNe5ILoe"
      }
    },
    {
      "cell_type": "markdown",
      "source": [
        "Skewness tells you which side is the data concentration"
      ],
      "metadata": {
        "id": "CZ34avujpTjX"
      }
    },
    {
      "cell_type": "markdown",
      "source": [
        "4th moment consists of kurtosis"
      ],
      "metadata": {
        "id": "EHtCz6YzIbC-"
      }
    },
    {
      "cell_type": "code",
      "source": [
        "car.kurt()"
      ],
      "metadata": {
        "id": "LOR8R9YrH-0_"
      },
      "execution_count": null,
      "outputs": []
    },
    {
      "cell_type": "markdown",
      "source": [
        "If a distribution has negative kurtosis, it is said to be platykurtic, which means that it has a flatter peak and thinner tails compared to a normal distribution. This simply means that more data values are located near the mean and less data values are located on the tails."
      ],
      "metadata": {
        "id": "8lbH1u8VI3wj"
      }
    },
    {
      "cell_type": "code",
      "source": [
        "car.shape"
      ],
      "metadata": {
        "id": "Rksm5C4bIq8y"
      },
      "execution_count": null,
      "outputs": []
    },
    {
      "cell_type": "code",
      "source": [
        "plt.bar(height=car.HP, x=np.arange(1,82,1))"
      ],
      "metadata": {
        "id": "Vv26WOtmI-IN"
      },
      "execution_count": null,
      "outputs": []
    },
    {
      "cell_type": "code",
      "source": [
        "plt.hist(car.HP)"
      ],
      "metadata": {
        "id": "jpejN6wsKCCT"
      },
      "execution_count": null,
      "outputs": []
    },
    {
      "cell_type": "code",
      "source": [
        "plt.hist(car.HP, bins = [100,200,300,400],color='green',edgecolor='blue')"
      ],
      "metadata": {
        "id": "YN8CfWhQKJ8u"
      },
      "execution_count": null,
      "outputs": []
    },
    {
      "cell_type": "code",
      "source": [
        "plt.hist(car.HP, color='green',edgecolor='blue')"
      ],
      "metadata": {
        "id": "owqBGuu-KYdy"
      },
      "execution_count": null,
      "outputs": []
    },
    {
      "cell_type": "markdown",
      "source": [
        "Box plot tells you presence of outlayers"
      ],
      "metadata": {
        "id": "g2apD0Gno3nn"
      }
    },
    {
      "cell_type": "code",
      "source": [
        "plt.boxplot(car.HP)\n"
      ],
      "metadata": {
        "id": "Fkrqy6flo_AU"
      },
      "execution_count": null,
      "outputs": []
    },
    {
      "cell_type": "markdown",
      "source": [
        "SCATTERPLOT SHOWS THE REALATION BEWTWEEN TWO COLUMNS"
      ],
      "metadata": {
        "id": "vS1ZciWgw-t0"
      }
    },
    {
      "cell_type": "code",
      "source": [
        "plt.scatter(car.HP,car.MPG)\n",
        "plt.show()"
      ],
      "metadata": {
        "id": "5KJinQZExF8Q"
      },
      "execution_count": null,
      "outputs": []
    },
    {
      "cell_type": "code",
      "source": [
        "car.corr()"
      ],
      "metadata": {
        "id": "qIBLKDSgzXyd"
      },
      "execution_count": null,
      "outputs": []
    },
    {
      "cell_type": "code",
      "source": [
        "plt.scatter(car.MPG,car.VOL)\n",
        "plt.show()"
      ],
      "metadata": {
        "id": "fEfjCF_A0h2v"
      },
      "execution_count": null,
      "outputs": []
    },
    {
      "cell_type": "code",
      "source": [
        "car['HP'].corr(car['MPG'])"
      ],
      "metadata": {
        "id": "oz9JG1Al1SbJ"
      },
      "execution_count": null,
      "outputs": []
    },
    {
      "cell_type": "code",
      "source": [
        "plt.scatter(car.VOL,car.SP)\n",
        "plt.show()"
      ],
      "metadata": {
        "id": "p_2V2Zp62jt6"
      },
      "execution_count": null,
      "outputs": []
    },
    {
      "cell_type": "code",
      "source": [
        "car['VOL'].corr(car['SP'])"
      ],
      "metadata": {
        "id": "9MKBr_yR2xFM"
      },
      "execution_count": null,
      "outputs": []
    },
    {
      "cell_type": "code",
      "source": [
        "plt.scatter(car.WT,car.SP)\n",
        "plt.show()"
      ],
      "metadata": {
        "id": "WZrW-A7K3INN"
      },
      "execution_count": null,
      "outputs": []
    },
    {
      "cell_type": "code",
      "source": [
        "duplicate = car.duplicated()\n",
        "duplicate"
      ],
      "metadata": {
        "id": "ZagQYtKg3eRv"
      },
      "execution_count": null,
      "outputs": []
    },
    {
      "cell_type": "code",
      "source": [
        "duplicate.sum()"
      ],
      "metadata": {
        "id": "lt5kNgxk2436"
      },
      "execution_count": null,
      "outputs": []
    },
    {
      "cell_type": "code",
      "source": [
        "plt.boxplot(car)\n",
        "plt.show()"
      ],
      "metadata": {
        "id": "u7PkD3iK3BOP"
      },
      "execution_count": null,
      "outputs": []
    },
    {
      "cell_type": "code",
      "source": [
        "car.columns"
      ],
      "metadata": {
        "id": "3QAGIPo43KQl"
      },
      "execution_count": null,
      "outputs": []
    },
    {
      "cell_type": "code",
      "source": [
        "plt.boxplot(car.WT)\n",
        "plt.show()"
      ],
      "metadata": {
        "id": "qiz114nq4U8E"
      },
      "execution_count": null,
      "outputs": []
    },
    {
      "cell_type": "code",
      "source": [
        "IQR = car['WT'].quantile(0.75)-car['WT'].quantile(0.25)\n",
        "IQR"
      ],
      "metadata": {
        "id": "IA8dHrVP3BHx"
      },
      "execution_count": null,
      "outputs": []
    },
    {
      "cell_type": "code",
      "source": [
        "lower_limit=car.WT.quantile(0.25)-IQR*1.5\n",
        "lower_limit"
      ],
      "metadata": {
        "id": "ka3MZj9m3iO6"
      },
      "execution_count": null,
      "outputs": []
    },
    {
      "cell_type": "code",
      "source": [
        "upper_limit=car.WT.quantile(0.25)+IQR*1.5\n",
        "upper_limit"
      ],
      "metadata": {
        "id": "e8YTWm0r3y7S"
      },
      "execution_count": null,
      "outputs": []
    },
    {
      "cell_type": "code",
      "source": [
        "!pip install feature-engine"
      ],
      "metadata": {
        "collapsed": true,
        "id": "jRXLY-624JXn"
      },
      "execution_count": null,
      "outputs": []
    },
    {
      "cell_type": "code",
      "source": [
        "from feature_engine.outliers import Winsorizer\n",
        "winsor_iqr=Winsorizer()\n",
        "winsor_iqr"
      ],
      "metadata": {
        "id": "LR4RETfh4qV5"
      },
      "execution_count": null,
      "outputs": []
    },
    {
      "cell_type": "code",
      "source": [
        "winsor_iqr=Winsorizer(capping_method='iqr',tail='both',fold=1.5,variables=['WT'])\n",
        "winsor_iqr"
      ],
      "metadata": {
        "id": "BtvIAun_4zEG"
      },
      "execution_count": null,
      "outputs": []
    },
    {
      "cell_type": "code",
      "source": [
        "car_s=winsor_iqr.fit_transform(car[['WT']])\n",
        "car_s"
      ],
      "metadata": {
        "id": "RaAMPWpO5pQo"
      },
      "execution_count": null,
      "outputs": []
    },
    {
      "cell_type": "code",
      "source": [
        "plt.boxplot(car_s.WT)\n",
        "plt.show()"
      ],
      "metadata": {
        "id": "sCqQFbl66b2G"
      },
      "execution_count": null,
      "outputs": []
    }
  ]
}