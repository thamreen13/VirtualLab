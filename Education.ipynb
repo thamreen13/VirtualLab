{
  "nbformat": 4,
  "nbformat_minor": 0,
  "metadata": {
    "colab": {
      "private_outputs": true,
      "provenance": [],
      "include_colab_link": true
    },
    "kernelspec": {
      "name": "python3",
      "display_name": "Python 3"
    },
    "language_info": {
      "name": "python"
    }
  },
  "cells": [
    {
      "cell_type": "markdown",
      "metadata": {
        "id": "view-in-github",
        "colab_type": "text"
      },
      "source": [
        "<a href=\"https://colab.research.google.com/github/thamreen13/VirtualLab/blob/main/Education.ipynb\" target=\"_parent\"><img src=\"https://colab.research.google.com/assets/colab-badge.svg\" alt=\"Open In Colab\"/></a>"
      ]
    },
    {
      "cell_type": "code",
      "execution_count": null,
      "metadata": {
        "id": "jmKqCo1Getd5"
      },
      "outputs": [],
      "source": [
        "import pandas as pd\n",
        "import matplotlib.pyplot as plt\n",
        "import numpy as np\n",
        "education = pd.read_csv(\"/content/education.csv\")\n",
        "education"
      ]
    },
    {
      "cell_type": "markdown",
      "source": [
        "First moment"
      ],
      "metadata": {
        "id": "cH8fWdLYiJH_"
      }
    },
    {
      "cell_type": "code",
      "source": [
        "education.workex.mean()"
      ],
      "metadata": {
        "id": "SfoaSAG7gd56"
      },
      "execution_count": null,
      "outputs": []
    },
    {
      "cell_type": "code",
      "source": [
        "education.workex.median()"
      ],
      "metadata": {
        "id": "TTRuwRqviYnf"
      },
      "execution_count": null,
      "outputs": []
    },
    {
      "cell_type": "code",
      "source": [
        "education.workex.mode()"
      ],
      "metadata": {
        "id": "BDEAoQGDiwxf"
      },
      "execution_count": null,
      "outputs": []
    },
    {
      "cell_type": "code",
      "source": [
        "education.gmat.mean()"
      ],
      "metadata": {
        "id": "byxWcRwvi3Nr"
      },
      "execution_count": null,
      "outputs": []
    },
    {
      "cell_type": "code",
      "source": [
        "education.gmat.median()"
      ],
      "metadata": {
        "id": "D-HbTvfYi3iQ"
      },
      "execution_count": null,
      "outputs": []
    },
    {
      "cell_type": "code",
      "source": [
        "education.gmat.mode()"
      ],
      "metadata": {
        "id": "ydwe-oK2i32K"
      },
      "execution_count": null,
      "outputs": []
    },
    {
      "cell_type": "markdown",
      "source": [
        "2nd moment\n"
      ],
      "metadata": {
        "id": "8AGQ6cavjJei"
      }
    },
    {
      "cell_type": "code",
      "source": [
        "education.workex.var()"
      ],
      "metadata": {
        "id": "CgUgUKk8jS9T"
      },
      "execution_count": null,
      "outputs": []
    },
    {
      "cell_type": "code",
      "source": [
        "education.workex.std()"
      ],
      "metadata": {
        "id": "A-m-qSMljGKl"
      },
      "execution_count": null,
      "outputs": []
    },
    {
      "cell_type": "code",
      "source": [
        "education.gmat.var()"
      ],
      "metadata": {
        "id": "_HNUR2HnjGZ6"
      },
      "execution_count": null,
      "outputs": []
    },
    {
      "cell_type": "code",
      "source": [
        "education.gmat.std()"
      ],
      "metadata": {
        "id": "cjNZSyxbjRWS"
      },
      "execution_count": null,
      "outputs": []
    },
    {
      "cell_type": "markdown",
      "source": [
        "3rd moment:"
      ],
      "metadata": {
        "id": "3cJyFPeBj0K1"
      }
    },
    {
      "cell_type": "code",
      "source": [
        "education.workex.skew()"
      ],
      "metadata": {
        "id": "AjX0qFszj_Cw"
      },
      "execution_count": null,
      "outputs": []
    },
    {
      "cell_type": "code",
      "source": [
        "education.gmat.skew()"
      ],
      "metadata": {
        "id": "LcChdamSkD0P"
      },
      "execution_count": null,
      "outputs": []
    },
    {
      "cell_type": "markdown",
      "source": [
        "4th moment"
      ],
      "metadata": {
        "id": "qGPxBA9RkKrA"
      }
    },
    {
      "cell_type": "code",
      "source": [
        "education.workex.kurt()"
      ],
      "metadata": {
        "id": "hATSTv9-kJGr"
      },
      "execution_count": null,
      "outputs": []
    },
    {
      "cell_type": "code",
      "source": [
        "education.gmat.kurt()"
      ],
      "metadata": {
        "id": "FTOaUenIkVpW"
      },
      "execution_count": null,
      "outputs": []
    },
    {
      "cell_type": "code",
      "source": [
        "education.shape"
      ],
      "metadata": {
        "id": "rNUWrvTXka2W"
      },
      "execution_count": null,
      "outputs": []
    },
    {
      "cell_type": "markdown",
      "source": [
        "**Data visualization**"
      ],
      "metadata": {
        "id": "qvHkUVQ4kjho"
      }
    },
    {
      "cell_type": "code",
      "source": [
        "plt.bar(height=education.gmat,x=np.arange(1,774,1))\n",
        "plt.show()"
      ],
      "metadata": {
        "id": "L-iCOQJWkdYU"
      },
      "execution_count": null,
      "outputs": []
    },
    {
      "cell_type": "code",
      "source": [
        "plt.boxplot(education.gmat)\n",
        "plt.show()"
      ],
      "metadata": {
        "id": "ckW9cPY7lIMX"
      },
      "execution_count": null,
      "outputs": []
    },
    {
      "cell_type": "code",
      "source": [
        "plt.hist(education.gmat)\n",
        "plt.hist(education.gmat , bins = [600,650,700,750,800],color='green',edgecolor='red')\n",
        "plt.hist(education.workex)\n",
        "plt.hist(education.workex , color='red',edgecolor='black',bins=6)\n",
        "plt.show()"
      ],
      "metadata": {
        "id": "XaITbGp9laHA"
      },
      "execution_count": null,
      "outputs": []
    },
    {
      "cell_type": "code",
      "source": [
        "plt.hist(education.workex)\n",
        "\n",
        "plt.show()"
      ],
      "metadata": {
        "id": "RBvgnTtel5Ez"
      },
      "execution_count": null,
      "outputs": []
    },
    {
      "cell_type": "code",
      "source": [
        "plt.hist(education.workex , color='red',edgecolor='black',bins=6)"
      ],
      "metadata": {
        "id": "hVGxA28emIGX"
      },
      "execution_count": null,
      "outputs": []
    },
    {
      "cell_type": "markdown",
      "source": [
        "box layer tells you presence of the outlayers. Since from below boxplot outlayers are present at the bottom. Hence outlayers are min."
      ],
      "metadata": {
        "id": "HO5Z_LtstRk7"
      }
    },
    {
      "cell_type": "code",
      "source": [
        "plt.boxplot(education.gmat)\n",
        "plt.show()"
      ],
      "metadata": {
        "id": "AGXS4Bg8sOpq"
      },
      "execution_count": null,
      "outputs": []
    },
    {
      "cell_type": "code",
      "source": [
        "plt.boxplot(education)\n",
        "plt.show()"
      ],
      "metadata": {
        "id": "nwy-Tl-_tHjp"
      },
      "execution_count": null,
      "outputs": []
    },
    {
      "cell_type": "code",
      "source": [
        "plt.boxplot(education.workex)\n",
        "plt.show()"
      ],
      "metadata": {
        "id": "0BMMztect2fj"
      },
      "execution_count": null,
      "outputs": []
    },
    {
      "cell_type": "markdown",
      "source": [
        "SCATTER PLOT TELLS YOU THE RELATIONSHIP BETWEEN TWO COLUMNS. IT TALKS ABIUT STRENGTH, DIRECTION. STRENGTH IS SUBJECTIVE."
      ],
      "metadata": {
        "id": "ZChxHTipxygu"
      }
    },
    {
      "cell_type": "code",
      "source": [
        "plt.scatter(education.workex,education.gmat)\n",
        "plt.show()"
      ],
      "metadata": {
        "id": "bYUHW8k2tLiW"
      },
      "execution_count": null,
      "outputs": []
    },
    {
      "cell_type": "code",
      "source": [
        "education.corr()"
      ],
      "metadata": {
        "id": "NOTDrD6Zzn2w"
      },
      "execution_count": null,
      "outputs": []
    },
    {
      "cell_type": "code",
      "source": [
        "duplicate = education.duplicated()\n",
        "duplicate"
      ],
      "metadata": {
        "id": "ozvujD7Qz2Xy"
      },
      "execution_count": null,
      "outputs": []
    },
    {
      "cell_type": "code",
      "source": [
        "sum(duplicate)"
      ],
      "metadata": {
        "id": "I14btU5hJMB3"
      },
      "execution_count": null,
      "outputs": []
    }
  ]
}